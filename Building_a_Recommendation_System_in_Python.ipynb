{
  "nbformat": 4,
  "nbformat_minor": 0,
  "metadata": {
    "colab": {
      "name": "Building a Recommendation System in Python.ipynb",
      "provenance": [],
      "collapsed_sections": []
    },
    "kernelspec": {
      "name": "python3",
      "display_name": "Python 3"
    }
  },
  "cells": [
    {
      "cell_type": "code",
      "metadata": {
        "id": "r3ENfmIHXCi9",
        "colab_type": "code",
        "colab": {}
      },
      "source": [
        "import pandas as pd\n",
        "import numpy as np\n",
        "from urllib.request import urlretrieve\n",
        "import zipfile\n",
        "from scipy import sparse\n",
        "from sklearn.metrics.pairwise import cosine_similarity"
      ],
      "execution_count": 1,
      "outputs": []
    },
    {
      "cell_type": "code",
      "metadata": {
        "id": "mhsgx7n_WhVS",
        "colab_type": "code",
        "colab": {
          "base_uri": "https://localhost:8080/",
          "height": 72
        },
        "outputId": "a0270868-e27a-4c95-bc99-2cc41ea4daf4"
      },
      "source": [
        "# Download MovieLens data.\n",
        "print(\"Downloading movielens data...\")\n",
        "\n",
        "urlretrieve(\"http://files.grouplens.org/datasets/movielens/ml-100k.zip\", \"movielens.zip\")\n",
        "zip_ref = zipfile.ZipFile('movielens.zip', \"r\")\n",
        "zip_ref.extractall()\n",
        "print(\"Done. Dataset contains:\")\n",
        "print(zip_ref.read('ml-100k/u.info'))\n",
        "\n",
        "# Load each data set (users, movies, and ratings).\n",
        "ratings_cols = ['user_id', 'movie_id', 'rating', 'unix_timestamp']\n",
        "ratings = pd.read_csv(\n",
        "    'ml-100k/u.data', sep='\\t', names=ratings_cols, encoding='latin-1')\n",
        "\n",
        "# The movies file contains a binary feature for each genre.\n",
        "genre_cols = [\n",
        "    \"genre_unknown\", \"Action\", \"Adventure\", \"Animation\", \"Children\", \"Comedy\",\n",
        "    \"Crime\", \"Documentary\", \"Drama\", \"Fantasy\", \"Film-Noir\", \"Horror\",\n",
        "    \"Musical\", \"Mystery\", \"Romance\", \"Sci-Fi\", \"Thriller\", \"War\", \"Western\"\n",
        "]\n",
        "\n",
        "movies_cols = [\n",
        "    'movie_id', 'title', 'release_date', \"video_release_date\", \"imdb_url\"\n",
        "] + genre_cols\n",
        "\n",
        "movies = pd.read_csv(\n",
        "    'ml-100k/u.item', sep='|', names=movies_cols, encoding='latin-1')\n",
        "\n",
        "# Since the ids start at 1, we shift them to start at 0.\n",
        "movies[\"movie_id\"] = movies[\"movie_id\"].apply(lambda x: str(x-1))\n",
        "movies[\"year\"] = movies['release_date'].apply(lambda x: str(x).split('-')[-1])\n",
        "ratings[\"movie_id\"] = ratings[\"movie_id\"].apply(lambda x: str(x-1))\n",
        "ratings[\"user_id\"] = ratings[\"user_id\"].apply(lambda x: str(x-1))\n",
        "ratings[\"rating\"] = ratings[\"rating\"].apply(lambda x: float(x))\n",
        "ratings['date'] = pd.to_datetime(ratings['unix_timestamp'], origin='unix', unit='s').dt.date\n",
        "\n",
        "ratings.drop('unix_timestamp', axis=1, inplace=True)"
      ],
      "execution_count": 2,
      "outputs": [
        {
          "output_type": "stream",
          "text": [
            "Downloading movielens data...\n",
            "Done. Dataset contains:\n",
            "b'943 users\\n1682 items\\n100000 ratings\\n'\n"
          ],
          "name": "stdout"
        }
      ]
    },
    {
      "cell_type": "markdown",
      "metadata": {
        "id": "guzGNcLciY5r",
        "colab_type": "text"
      },
      "source": [
        ""
      ]
    },
    {
      "cell_type": "code",
      "metadata": {
        "id": "69_NTTDcXXwn",
        "colab_type": "code",
        "colab": {
          "base_uri": "https://localhost:8080/",
          "height": 198
        },
        "outputId": "63ad2109-aea9-46fb-91e0-9ed5e825c5a1"
      },
      "source": [
        "ratings.head()"
      ],
      "execution_count": 3,
      "outputs": [
        {
          "output_type": "execute_result",
          "data": {
            "text/html": [
              "<div>\n",
              "<style scoped>\n",
              "    .dataframe tbody tr th:only-of-type {\n",
              "        vertical-align: middle;\n",
              "    }\n",
              "\n",
              "    .dataframe tbody tr th {\n",
              "        vertical-align: top;\n",
              "    }\n",
              "\n",
              "    .dataframe thead th {\n",
              "        text-align: right;\n",
              "    }\n",
              "</style>\n",
              "<table border=\"1\" class=\"dataframe\">\n",
              "  <thead>\n",
              "    <tr style=\"text-align: right;\">\n",
              "      <th></th>\n",
              "      <th>user_id</th>\n",
              "      <th>movie_id</th>\n",
              "      <th>rating</th>\n",
              "      <th>date</th>\n",
              "    </tr>\n",
              "  </thead>\n",
              "  <tbody>\n",
              "    <tr>\n",
              "      <th>0</th>\n",
              "      <td>195</td>\n",
              "      <td>241</td>\n",
              "      <td>3.0</td>\n",
              "      <td>1997-12-04</td>\n",
              "    </tr>\n",
              "    <tr>\n",
              "      <th>1</th>\n",
              "      <td>185</td>\n",
              "      <td>301</td>\n",
              "      <td>3.0</td>\n",
              "      <td>1998-04-04</td>\n",
              "    </tr>\n",
              "    <tr>\n",
              "      <th>2</th>\n",
              "      <td>21</td>\n",
              "      <td>376</td>\n",
              "      <td>1.0</td>\n",
              "      <td>1997-11-07</td>\n",
              "    </tr>\n",
              "    <tr>\n",
              "      <th>3</th>\n",
              "      <td>243</td>\n",
              "      <td>50</td>\n",
              "      <td>2.0</td>\n",
              "      <td>1997-11-27</td>\n",
              "    </tr>\n",
              "    <tr>\n",
              "      <th>4</th>\n",
              "      <td>165</td>\n",
              "      <td>345</td>\n",
              "      <td>1.0</td>\n",
              "      <td>1998-02-02</td>\n",
              "    </tr>\n",
              "  </tbody>\n",
              "</table>\n",
              "</div>"
            ],
            "text/plain": [
              "  user_id movie_id  rating        date\n",
              "0     195      241     3.0  1997-12-04\n",
              "1     185      301     3.0  1998-04-04\n",
              "2      21      376     1.0  1997-11-07\n",
              "3     243       50     2.0  1997-11-27\n",
              "4     165      345     1.0  1998-02-02"
            ]
          },
          "metadata": {
            "tags": []
          },
          "execution_count": 3
        }
      ]
    },
    {
      "cell_type": "code",
      "metadata": {
        "id": "xyKCXrQUpOpd",
        "colab_type": "code",
        "colab": {}
      },
      "source": [
        "data_pivot = ratings[['user_id', 'movie_id', 'rating']].pivot(index='user_id', columns='movie_id').fillna(0).astype(int)  "
      ],
      "execution_count": 4,
      "outputs": []
    },
    {
      "cell_type": "code",
      "metadata": {
        "id": "HJ9LApI7sIv6",
        "colab_type": "code",
        "colab": {}
      },
      "source": [
        "# create scipy sparse from pivot table\n",
        "data_sparse = sparse.csr_matrix(data_pivot)"
      ],
      "execution_count": 5,
      "outputs": []
    },
    {
      "cell_type": "code",
      "metadata": {
        "id": "15KbWFqpdqed",
        "colab_type": "code",
        "colab": {}
      },
      "source": [
        "similarities_sparse = cosine_similarity(data_sparse, dense_output=False)"
      ],
      "execution_count": 6,
      "outputs": []
    },
    {
      "cell_type": "code",
      "metadata": {
        "id": "_qJFmvSujbEm",
        "colab_type": "code",
        "colab": {}
      },
      "source": [
        "# returns index (column position) of top n similarities in each row\n",
        "def top_n_idx_sparse(matrix, n):\n",
        "    '''Return index of top n values in each row of a sparse matrix'''\n",
        "    top_n_idx = []\n",
        "    for le, ri in zip(matrix.indptr[:-1], matrix.indptr[1:]):\n",
        "        n_row_pick = min(n, ri - le)\n",
        "        top_n_idx.append(matrix.indices[le + np.argpartition(matrix.data[le:ri], -n_row_pick)[-n_row_pick:]])\n",
        "    return top_n_idx\n",
        "user_user_similar = top_n_idx_sparse(similarities_sparse, 5)"
      ],
      "execution_count": 7,
      "outputs": []
    },
    {
      "cell_type": "code",
      "metadata": {
        "id": "BgrSdJDYj7Lu",
        "colab_type": "code",
        "colab": {}
      },
      "source": [
        "# transforms result from sparse matrix into a dict user: [job1, job2]\n",
        "user_user_similar_dict = {}\n",
        "for idx, val in enumerate(user_user_similar):\n",
        "      user_user_similar_dict.update({idx: val.tolist()})"
      ],
      "execution_count": 8,
      "outputs": []
    },
    {
      "cell_type": "code",
      "metadata": {
        "id": "F7OswyxAsbb_",
        "colab_type": "code",
        "colab": {}
      },
      "source": [
        "# gets actual user ids from data based on sparse matrix position index\n",
        "similar_users_final = {}\n",
        "for user, similar_users in user_user_similar_dict.items():\n",
        "    idx = data_pivot.index[user]\n",
        "    values = []\n",
        "    for value in similar_users:\n",
        "        values.append(data_pivot.index[value])\n",
        "\n",
        "    similar_users_final.update({idx: values})"
      ],
      "execution_count": 9,
      "outputs": []
    },
    {
      "cell_type": "code",
      "metadata": {
        "id": "QzdXo5c4wJRw",
        "colab_type": "code",
        "colab": {}
      },
      "source": [
        "# transforms list of users: [similar_user1, similar_user2] into list of user: [job1, job2]\n",
        "user_movies = {}\n",
        "for user, similar_users in similar_users_final.items():\n",
        "    # remove the user itself from similar_users (since cos_sim(user_1, user_1) is 1)\n",
        "    try:\n",
        "        del similar_users[similar_users.index(user)]\n",
        "    except:\n",
        "        pass\n",
        "    # get movie ids from list of movies rated by similar users.\n",
        "    # also apply extra logic to get the most high rated movies from the similar users\n",
        "    movies_rec = ratings[(ratings['user_id'].isin(similar_users)) & ratings['rating']>=3]\n",
        "    if movies_rec.empty:\n",
        "      movies_rec = ratings[(ratings['user_id'].isin(similar_users)) & ratings['rating']>=2]\n",
        "    if movies_rec.empty:\n",
        "      movies_rec = ratings[(ratings['user_id'].isin(similar_users)) & ratings['rating']>=1]\n",
        "    movies_sample = movies_rec.sample(n=10, random_state=33)['movie_id'].values\n",
        "    user_movies.update({user: list(set(movies_sample))})"
      ],
      "execution_count": 10,
      "outputs": []
    },
    {
      "cell_type": "code",
      "metadata": {
        "id": "0sNWjTf8yZA3",
        "colab_type": "code",
        "colab": {}
      },
      "source": [
        "  # transform dictionary into list of tuples and save on DataFrame\n",
        "  user_movie_tuple = [(user, movie) for user, user_movies in user_movies.items() for movie in user_movies]\n",
        "  user_movie_df = pd.DataFrame(user_movie_tuple, columns=['user_id', 'movie_id'])"
      ],
      "execution_count": 11,
      "outputs": []
    },
    {
      "cell_type": "code",
      "metadata": {
        "id": "eoFBHHiJLo3b",
        "colab_type": "code",
        "colab": {}
      },
      "source": [
        "rec_batch = pd.merge(user_movie_df, movies[['movie_id', 'title']], on='movie_id', how='left')"
      ],
      "execution_count": 12,
      "outputs": []
    },
    {
      "cell_type": "code",
      "metadata": {
        "id": "PEGBBFwJRBeT",
        "colab_type": "code",
        "colab": {
          "base_uri": "https://localhost:8080/",
          "height": 318
        },
        "outputId": "367d4b17-424c-45db-fd53-4ff3c62daa58"
      },
      "source": [
        "rec_batch[rec_batch['user_id']=='99']"
      ],
      "execution_count": null,
      "outputs": [
        {
          "output_type": "execute_result",
          "data": {
            "text/html": [
              "<div>\n",
              "<style scoped>\n",
              "    .dataframe tbody tr th:only-of-type {\n",
              "        vertical-align: middle;\n",
              "    }\n",
              "\n",
              "    .dataframe tbody tr th {\n",
              "        vertical-align: top;\n",
              "    }\n",
              "\n",
              "    .dataframe thead th {\n",
              "        text-align: right;\n",
              "    }\n",
              "</style>\n",
              "<table border=\"1\" class=\"dataframe\">\n",
              "  <thead>\n",
              "    <tr style=\"text-align: right;\">\n",
              "      <th></th>\n",
              "      <th>user_id</th>\n",
              "      <th>movie_id</th>\n",
              "      <th>title</th>\n",
              "    </tr>\n",
              "  </thead>\n",
              "  <tbody>\n",
              "    <tr>\n",
              "      <th>9266</th>\n",
              "      <td>99</td>\n",
              "      <td>288</td>\n",
              "      <td>Evita (1996)</td>\n",
              "    </tr>\n",
              "    <tr>\n",
              "      <th>9267</th>\n",
              "      <td>99</td>\n",
              "      <td>257</td>\n",
              "      <td>Contact (1997)</td>\n",
              "    </tr>\n",
              "    <tr>\n",
              "      <th>9268</th>\n",
              "      <td>99</td>\n",
              "      <td>312</td>\n",
              "      <td>Titanic (1997)</td>\n",
              "    </tr>\n",
              "    <tr>\n",
              "      <th>9269</th>\n",
              "      <td>99</td>\n",
              "      <td>321</td>\n",
              "      <td>Murder at 1600 (1997)</td>\n",
              "    </tr>\n",
              "    <tr>\n",
              "      <th>9270</th>\n",
              "      <td>99</td>\n",
              "      <td>690</td>\n",
              "      <td>Dark City (1998)</td>\n",
              "    </tr>\n",
              "    <tr>\n",
              "      <th>9271</th>\n",
              "      <td>99</td>\n",
              "      <td>311</td>\n",
              "      <td>Midnight in the Garden of Good and Evil (1997)</td>\n",
              "    </tr>\n",
              "    <tr>\n",
              "      <th>9272</th>\n",
              "      <td>99</td>\n",
              "      <td>299</td>\n",
              "      <td>Air Force One (1997)</td>\n",
              "    </tr>\n",
              "    <tr>\n",
              "      <th>9273</th>\n",
              "      <td>99</td>\n",
              "      <td>320</td>\n",
              "      <td>Mother (1996)</td>\n",
              "    </tr>\n",
              "    <tr>\n",
              "      <th>9274</th>\n",
              "      <td>99</td>\n",
              "      <td>325</td>\n",
              "      <td>G.I. Jane (1997)</td>\n",
              "    </tr>\n",
              "  </tbody>\n",
              "</table>\n",
              "</div>"
            ],
            "text/plain": [
              "     user_id movie_id                                           title\n",
              "9266      99      288                                    Evita (1996)\n",
              "9267      99      257                                  Contact (1997)\n",
              "9268      99      312                                  Titanic (1997)\n",
              "9269      99      321                           Murder at 1600 (1997)\n",
              "9270      99      690                                Dark City (1998)\n",
              "9271      99      311  Midnight in the Garden of Good and Evil (1997)\n",
              "9272      99      299                            Air Force One (1997)\n",
              "9273      99      320                                   Mother (1996)\n",
              "9274      99      325                                G.I. Jane (1997)"
            ]
          },
          "metadata": {
            "tags": []
          },
          "execution_count": 20
        }
      ]
    },
    {
      "cell_type": "code",
      "metadata": {
        "id": "yKscOH9RgF5U",
        "colab_type": "code",
        "colab": {}
      },
      "source": [
        ""
      ],
      "execution_count": null,
      "outputs": []
    }
  ]
}